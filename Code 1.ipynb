{
  "metadata": {
    "kernelspec": {
      "name": "python",
      "display_name": "Python (Pyodide)",
      "language": "python"
    },
    "language_info": {
      "codemirror_mode": {
        "name": "python",
        "version": 3
      },
      "file_extension": ".py",
      "mimetype": "text/x-python",
      "name": "python",
      "nbconvert_exporter": "python",
      "pygments_lexer": "ipython3",
      "version": "3.8"
    }
  },
  "nbformat_minor": 4,
  "nbformat": 4,
  "cells": [
    {
      "cell_type": "code",
      "source": "def arctan_approx(x, err=0.0001):\n    if not (0 <= x <= 1):\n        return \"ERROR! PLEASE PICK A NUMBER BETWEEN 0 and 1!\"\n    else:\n        n = 0\n        approx = 0\n        while (x**(2*n+1))/(2*n+1) > err:\n            approx = approx + ((-1)**n)*(x**(2*n+1))/(2*n+1)\n            n += 1\n    return approx, n, ((x**(2*n+1))/(2*n+1))\n\ntest_values = [-1, 0, 0.25, 0.5, 0.75, 1]\nfor i in test_values:\n    print(\"arctan_approx(\" + str(i) + \") =\", arctan_approx(i))",
      "metadata": {
        "trusted": true
      },
      "outputs": [
        {
          "name": "stdout",
          "text": "arctan_approx(-1) = ERROR! PLEASE PICK A NUMBER BETWEEN 0 and 1!\narctan_approx(0) = (0, 0, 0.0)\narctan_approx(0.25) = (0.24498697916666665, 3, 8.719308035714285e-06)\narctan_approx(0.5) = (0.46368427579365074, 5, 4.438920454545455e-05)\narctan_approx(0.75) = (0.6435394700943785, 11, 5.816761029294689e-05)\narctan_approx(1) = (0.7853481633979478, 5000, 9.999000099990002e-05)\n",
          "output_type": "stream"
        }
      ],
      "execution_count": 1
    },
    {
      "cell_type": "code",
      "source": "",
      "metadata": {
        "trusted": true
      },
      "outputs": [],
      "execution_count": null
    }
  ]
}
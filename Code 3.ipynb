{
  "metadata": {
    "kernelspec": {
      "name": "python",
      "display_name": "Python (Pyodide)",
      "language": "python"
    },
    "language_info": {
      "codemirror_mode": {
        "name": "python",
        "version": 3
      },
      "file_extension": ".py",
      "mimetype": "text/x-python",
      "name": "python",
      "nbconvert_exporter": "python",
      "pygments_lexer": "ipython3",
      "version": "3.8"
    }
  },
  "nbformat_minor": 4,
  "nbformat": 4,
  "cells": [
    {
      "cell_type": "code",
      "source": "def f(x):\n    return x**2\n\nc = 1\nE = 0.1\nn = 100\nx1 = c\nx2 = c\ndelx = 10**(-8)\nd = 0.0000000001\n\ndef fPrime(x):\n    return (f(x + delx) - f(x - delx)) / (2 * delx)\n\ndef L(x):\n    return f(c) + fPrime(c) * (x - c)\n\nfor i in range(n):\n    x1 = x1 - d\n    if abs(f(x1) - L(x1)) <= E:\n        print(\"x1:\", x1)\n        break\nelse:\n    print(\"No x1 can be found\")\n\nfor i in range(n):\n    x2 = x2 + d\n    if abs(f(x2) - L(x2)) <= E:\n        print(\"x2:\", x2)\n        break\nelse:\n    print(\"No x2 can be found\")\n",
      "metadata": {
        "trusted": true
      },
      "outputs": [
        {
          "name": "stdout",
          "text": "x1: 0.9999999999\nx2: 1.0000000001\n",
          "output_type": "stream"
        }
      ],
      "execution_count": 2
    },
    {
      "cell_type": "code",
      "source": "",
      "metadata": {
        "trusted": true
      },
      "outputs": [],
      "execution_count": null
    }
  ]
}
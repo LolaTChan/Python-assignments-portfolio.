{
  "metadata": {
    "kernelspec": {
      "name": "python",
      "display_name": "Python (Pyodide)",
      "language": "python"
    },
    "language_info": {
      "codemirror_mode": {
        "name": "python",
        "version": 3
      },
      "file_extension": ".py",
      "mimetype": "text/x-python",
      "name": "python",
      "nbconvert_exporter": "python",
      "pygments_lexer": "ipython3",
      "version": "3.8"
    }
  },
  "nbformat_minor": 4,
  "nbformat": 4,
  "cells": [
    {
      "cell_type": "code",
      "source": "import numpy as np\nimport scipy.stats as stats\n\n# Define the function to calculate the t statistic for a hypothesis test\ndef calculate_t_statistic(sample_mean, population_mean, sample_std_dev, sample_size):\n    t_statistic = (sample_mean - population_mean) / (sample_std_dev / np.sqrt(sample_size))\n    return t_statistic\n\n# Define the function to find the critical t-value based on the significance level and degrees of freedom\ndef get_critical_t_value(significance_level, degrees_freedom):\n    return stats.t.ppf(1 - significance_level / 2, degrees_freedom)\n\n# Define the hypothesis test function\ndef hypothesis_test(sample_data, hypothesized_mean, significance_level=0.05):\n    sample_mean = np.mean(sample_data)\n    sample_std_dev = np.std(sample_data)\n    sample_size = len(sample_data)\n    \n    critical_t_value = get_critical_t_value(significance_level, sample_size - 1)\n    t_value = calculate_t_statistic(sample_mean, hypothesized_mean, sample_std_dev, sample_size)\n    \n    if np.abs(t_value) > critical_t_value:\n        print(\"The null hypothesis is rejected.\")\n    else:\n        print(\"The null hypothesis is not rejected.\")\n\n# Sample data provided\nsample_scores = [92.64, 79.00, 84.79, 97.41, 93.68, 65.23, 84.50, 73.49, 73.97, 79.11]\nnational_average = 80  # Assuming this is the hypothesized mean for the test\n\n# Perform the hypothesis test\nhypothesis_test(sample_scores, national_average)",
      "metadata": {
        "trusted": true
      },
      "outputs": [
        {
          "ename": "<class 'TypeError'>",
          "evalue": "'>' not supported between instances of 'float' and 'NoneType'",
          "traceback": [
            "\u001b[0;31m---------------------------------------------------------------------------\u001b[0m",
            "\u001b[0;31mTypeError\u001b[0m                                 Traceback (most recent call last)",
            "Cell \u001b[0;32mIn[2], line 33\u001b[0m\n\u001b[1;32m     30\u001b[0m national_average \u001b[38;5;241m=\u001b[39m \u001b[38;5;241m80\u001b[39m  \u001b[38;5;66;03m# Assuming this is the hypothesized mean for the test\u001b[39;00m\n\u001b[1;32m     32\u001b[0m \u001b[38;5;66;03m# Perform the hypothesis test\u001b[39;00m\n\u001b[0;32m---> 33\u001b[0m \u001b[43mhypothesis_test\u001b[49m\u001b[43m(\u001b[49m\u001b[43msample_scores\u001b[49m\u001b[43m,\u001b[49m\u001b[43m \u001b[49m\u001b[43mnational_average\u001b[49m\u001b[43m)\u001b[49m\n",
            "Cell \u001b[0;32mIn[2], line 23\u001b[0m, in \u001b[0;36mhypothesis_test\u001b[0;34m(sample_data, hypothesized_mean, significance_level)\u001b[0m\n\u001b[1;32m     20\u001b[0m critical_t_value \u001b[38;5;241m=\u001b[39m get_critical_t_value(significance_level, sample_size \u001b[38;5;241m-\u001b[39m \u001b[38;5;241m1\u001b[39m)\n\u001b[1;32m     21\u001b[0m t_value \u001b[38;5;241m=\u001b[39m calculate_t_statistic(sample_mean, hypothesized_mean, sample_std_dev, sample_size)\n\u001b[0;32m---> 23\u001b[0m \u001b[38;5;28;01mif\u001b[39;00m \u001b[43mnp\u001b[49m\u001b[38;5;241;43m.\u001b[39;49m\u001b[43mabs\u001b[49m\u001b[43m(\u001b[49m\u001b[43mt_value\u001b[49m\u001b[43m)\u001b[49m\u001b[43m \u001b[49m\u001b[38;5;241;43m>\u001b[39;49m\u001b[43m \u001b[49m\u001b[43mcritical_t_value\u001b[49m:\n\u001b[1;32m     24\u001b[0m     \u001b[38;5;28mprint\u001b[39m(\u001b[38;5;124m\"\u001b[39m\u001b[38;5;124mThe null hypothesis is rejected.\u001b[39m\u001b[38;5;124m\"\u001b[39m)\n\u001b[1;32m     25\u001b[0m \u001b[38;5;28;01melse\u001b[39;00m:\n",
            "\u001b[0;31mTypeError\u001b[0m: '>' not supported between instances of 'float' and 'NoneType'"
          ],
          "output_type": "error"
        }
      ],
      "execution_count": 2
    },
    {
      "cell_type": "code",
      "source": "",
      "metadata": {
        "trusted": true
      },
      "outputs": [],
      "execution_count": null
    }
  ]
}
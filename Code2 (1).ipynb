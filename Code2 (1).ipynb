{
  "metadata": {
    "kernelspec": {
      "name": "python",
      "display_name": "Python (Pyodide)",
      "language": "python"
    },
    "language_info": {
      "codemirror_mode": {
        "name": "python",
        "version": 3
      },
      "file_extension": ".py",
      "mimetype": "text/x-python",
      "name": "python",
      "nbconvert_exporter": "python",
      "pygments_lexer": "ipython3",
      "version": "3.8"
    }
  },
  "nbformat_minor": 4,
  "nbformat": 4,
  "cells": [
    {
      "cell_type": "code",
      "source": "def bisection(f, a, b):\n    tolerance = 1e-10\n    max_iteration = 100000\n    if f(a) * f(b) > 0:\n        return None\n    iter_count = 0\n    while (b - a) / 2.0 > tolerance and iter_count < max_iteration:\n        midpoint = (a + b) / 2.0\n        if f(midpoint) == 0:\n            return midpoint\n        elif f(a) * f(midpoint) < 0:\n            b = midpoint\n        else:\n            a = midpoint\n        iter_count += 1\n    return (a + b) / 2.0\n\nimport math\n\n# Test Case 1:\nf1 = lambda x: math.exp(x) + math.log(x)\nroot1 = bisection(f1, 0.01, 1)\nprint(f\"Root of f1 in [0,1]: {root1}\")\n\n# Test Case 2:\nf2 = lambda x: math.atan(x) - x**2\nroot2 = bisection(f2, 0, 2)\nprint(f\"Root of f2 in [0,2]: {root2}\")\n\n# Test Case 3:\nf3 = lambda x: math.sin(x)\nroot3 = bisection(f3, 3, 4)\nprint(f\"Root of f3 in [3,4]: {root3}\")\n\n# Test Case 4:\nf4 = lambda x: math.log(math.cos(x))\nroot4 = bisection(f4, 5, 7)\nprint(f\"Root of f4 in [5,7]: {root4}\")\n",
      "metadata": {
        "trusted": true
      },
      "outputs": [
        {
          "name": "stdout",
          "text": "Root of f1 in [0,1]: 0.2698741375870304\nRoot of f2 in [0,2]: 1.9999999999417923\nRoot of f3 in [3,4]: 3.141592653642874\nRoot of f4 in [5,7]: None\n",
          "output_type": "stream"
        }
      ],
      "execution_count": 1
    },
    {
      "cell_type": "code",
      "source": "",
      "metadata": {
        "trusted": true
      },
      "outputs": [],
      "execution_count": null
    }
  ]
}